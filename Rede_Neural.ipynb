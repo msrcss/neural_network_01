{
  "nbformat": 4,
  "nbformat_minor": 0,
  "metadata": {
    "colab": {
      "provenance": []
    },
    "kernelspec": {
      "name": "python3",
      "display_name": "Python 3"
    },
    "language_info": {
      "name": "python"
    }
  },
  "cells": [
    {
      "cell_type": "code",
      "source": [
        "import numpy as np\n",
        "import torch\n",
        "import torch.nn.functional as F\n",
        "import torchvision\n",
        "import matplotlib.pyplot as plt\n",
        "from time import time\n",
        "from torchvision import datasets, transforms\n",
        "from torch import nn, optim"
      ],
      "metadata": {
        "id": "-yzVZI5oLjVD"
      },
      "execution_count": 29,
      "outputs": []
    },
    {
      "cell_type": "code",
      "source": [
        "transform = transforms.ToTensor()\n",
        "trainset = datasets.MNIST('~/.pytorch/MNIST_data/', download=True, train=True, transform=transform)\n",
        "trainloader = torch.utils.data.DataLoader(trainset, batch_size=64, shuffle=True)\n",
        "\n",
        "valset = datasets.MNIST('~/.pytorch/MNIST_data/', download=True, train=False, transform=transform)\n",
        "valloader = torch.utils.data.DataLoader(valset, batch_size=64, shuffle=True)"
      ],
      "metadata": {
        "id": "wRLGHJZaMp_J"
      },
      "execution_count": 30,
      "outputs": []
    },
    {
      "cell_type": "code",
      "source": [
        "dataiter = iter(trainloader)\n",
        "imagens, etiquetas = next(dataiter)\n",
        "plt.imshow(imagens[0].numpy().squeeze(), cmap='gray_r');"
      ],
      "metadata": {
        "colab": {
          "base_uri": "https://localhost:8080/",
          "height": 430
        },
        "id": "f4fs5fVONCsH",
        "outputId": "982a310d-f6f8-4c8f-87c2-8b0b1fe57d71"
      },
      "execution_count": 31,
      "outputs": [
        {
          "output_type": "display_data",
          "data": {
            "text/plain": [
              "<Figure size 640x480 with 1 Axes>"
            ],
            "image/png": "[encoded data removed]"
          },
          "metadata": {}
        }
      ]
    },
    {
      "cell_type": "code",
      "source": [
        "print(imagens[0].shape)     #para verificar as dimensões do tensor de cada imagem\n",
        "print(etiquetas[0].shape)   #para verificar as dimensões do tensor de cada etiqueta"
      ],
      "metadata": {
        "colab": {
          "base_uri": "https://localhost:8080/"
        },
        "id": "tuopdPmWXRZJ",
        "outputId": "bd604eea-1ec0-4374-8921-12e8cb9caa44"
      },
      "execution_count": 32,
      "outputs": [
        {
          "output_type": "stream",
          "name": "stdout",
          "text": [
            "torch.Size([1, 28, 28])\n",
            "torch.Size([])\n"
          ]
        }
      ]
    },
    {
      "cell_type": "code",
      "source": [
        "class Modelo(nn.Module):\n",
        "  def __init__(self):\n",
        "    super(Modelo, self).__init__()\n",
        "    self.linear1 = nn.Linear(28*28, 128) #camada de entrada, 784 neurônios que se ligam a 128\n",
        "    self.linear2 = nn.Linear(128, 64)    #camada de interna 1, 128 neurônios que se ligam a 64\n",
        "    self.linear3 = nn.Linear(64, 10)     #camada de interna 2, 64 neurônios que se ligam a 10\n",
        "    #para a camada de saída não é necessário definir nada, pois só precisamos pegar o output da camada interna 2\n",
        "\n",
        "  def forward(self, X):\n",
        "    X = F.relu(self.linear1(X))          #função de ativação da camada de entrada para a camada interna 1\n",
        "    X = F.relu(self.linear2(X))          #função de ativação da camada interna 1 para a camada interna 2\n",
        "    X = self.linear3(X)                  #função de ativação da camada interna 2 para a camada de saída, neste caso f(x) = x\n",
        "    return F.log_softmax(X, dim=1)       #dados utilizados para calcular a perda"
      ],
      "metadata": {
        "id": "1FMKxR2DYVRp"
      },
      "execution_count": 33,
      "outputs": []
    },
    {
      "cell_type": "code",
      "source": [
        "def treino(modelo, trainloader, device):\n",
        "  otimizador = optim.SGD(modelo.parameters(), lr=0.01, momentum=0.5) #define a política de atualização dos pesos e da bias\n",
        "  inicio = time()                                                    #timer para sabermos quanto tempo levou o treino\n",
        "\n",
        "  criterio = nn.NLLLoss()                                            #definindo o critério para calcular a perda\n",
        "  EPOCHS = 10                                                        #número de épocas (epochs) que o algoritmo rodará\n",
        "  modelo.train()                                                     #ativando o modo de trinamento do modelo\n",
        "\n",
        "  for epoch in range(EPOCHS):\n",
        "    perda_acumulada = 0                                              #variável para acumular a perda em cada época\n",
        "\n",
        "    for imagens, etiquetas in trainloader:\n",
        "      imagens = imagens.view(imagens.shape[0], -1)                   #redimensionando o tensor das imagens\n",
        "      otimizador.zero_grad()                                         #zerando os gradientes\n",
        "\n",
        "      output = modelo(imagens.to(device))                            #colocando os dados no modelo\n",
        "      perda_instantanea = criterio(output, etiquetas.to(device))     #calculando a perda da epoch em questão\n",
        "\n",
        "      perda_instantanea.backward()                                   #backpropagation a partir da perda\n",
        "      otimizador.step()                                              #atualizando os pesos e bias\n",
        "      perda_acumulada += perda_instantanea.item()                    #atualização da perda acumulada\n",
        "\n",
        "    else:\n",
        "      print(\"Época {} - Perda resultante: {}\".format(epoch+1, perda_acumulada/len(trainloader)))\n",
        "  print(\"\\nTempo de treino (em minutos) =\",(time()-inicio)/60)"
      ],
      "metadata": {
        "id": "dzwE7NM7beoM"
      },
      "execution_count": 34,
      "outputs": []
    },
    {
      "cell_type": "code",
      "source": [
        "def validacao(modelo, valloader, device):\n",
        "  conta_corretas, conta_todas = 0, 0\n",
        "  for imagens, etiquetas in valloader:\n",
        "    for i in range(len(etiquetas)):\n",
        "      img = imagens[i].view(1, 784)\n",
        "      #desativar o autograd para acelerar a validaão. Grafos computacionais dinâmicos tem um custo alto de processamento\n",
        "      with torch.no_grad():\n",
        "        logps = modelo(img.to(device))            #output do modelo em escala logarítmica\n",
        "\n",
        "\n",
        "      ps = torch.exp(logps)                       #converte output para escala normal (lembrando que é um tensor)\n",
        "      probab = list(ps.cpu().numpy()[0])\n",
        "      etiqueta_pred = probab.index(max(probab))   #maior probabilidade é a predição do modelo\n",
        "      etiqueta_certa = etiquetas.numpy()[i]\n",
        "      if(etiqueta_certa == etiqueta_pred):        #compara a previsão com valor correto\n",
        "        conta_corretas += 1\n",
        "      contas_todas += 1\n",
        "\n",
        "  print(\"Total de imagens testadas =\", contas_todas)\n",
        "  print(\"\\nPrecisão do modelo = {}%\".format(conta_corretas*100/contas_todas))"
      ],
      "metadata": {
        "id": "bLY8f4aZdgo_"
      },
      "execution_count": 35,
      "outputs": []
    },
    {
      "cell_type": "code",
      "source": [
        "modelo = Modelo() #inicializa o modelo\n",
        "device = torch.device(\"cuda\" if torch.cuda.is_available() else \"cpu\") #modelo rodará na GPU se possível\n",
        "modelo.to(device)"
      ],
      "metadata": {
        "colab": {
          "base_uri": "https://localhost:8080/"
        },
        "id": "uyz_4CEWdmEx",
        "outputId": "2653e63c-fa74-4f93-e7cd-c4357f8756b2"
      },
      "execution_count": 36,
      "outputs": [
        {
          "output_type": "execute_result",
          "data": {
            "text/plain": [
              "Modelo(\n",
              "  (linear1): Linear(in_features=784, out_features=128, bias=True)\n",
              "  (linear2): Linear(in_features=128, out_features=64, bias=True)\n",
              "  (linear3): Linear(in_features=64, out_features=10, bias=True)\n",
              ")"
            ]
          },
          "metadata": {},
          "execution_count": 36
        }
      ]
    },
    {
      "cell_type": "code",
      "source": [],
      "metadata": {
        "id": "hrQ6Xz-Nfl7o"
      },
      "execution_count": 36,
      "outputs": []
    }
  ]
}